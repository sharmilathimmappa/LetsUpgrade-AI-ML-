{
 "cells": [
  {
   "cell_type": "markdown",
   "metadata": {},
   "source": [
    "Question 1\n",
    "--"
   ]
  },
  {
   "cell_type": "code",
   "execution_count": 4,
   "metadata": {},
   "outputs": [
    {
     "name": "stdout",
     "output_type": "stream",
     "text": [
      "(15+15j)\n",
      "(5+5j)\n",
      "(2+0j)\n",
      "100j\n"
     ]
    }
   ],
   "source": [
    "a=10+10j\n",
    "b=5+5j\n",
    "print(a+b)\n",
    "print(a-b)\n",
    "print(a/b)\n",
    "print(a*b)"
   ]
  },
  {
   "cell_type": "code",
   "execution_count": 5,
   "metadata": {},
   "outputs": [
    {
     "ename": "TypeError",
     "evalue": "can't take floor of complex number.",
     "output_type": "error",
     "traceback": [
      "\u001b[1;31m---------------------------------------------------------------------------\u001b[0m",
      "\u001b[1;31mTypeError\u001b[0m                                 Traceback (most recent call last)",
      "\u001b[1;32m<ipython-input-5-7dd2cc7d263d>\u001b[0m in \u001b[0;36m<module>\u001b[1;34m\u001b[0m\n\u001b[0;32m      1\u001b[0m \u001b[0ma\u001b[0m\u001b[1;33m=\u001b[0m\u001b[1;36m10\u001b[0m\u001b[1;33m+\u001b[0m\u001b[1;36m10j\u001b[0m\u001b[1;33m\u001b[0m\u001b[1;33m\u001b[0m\u001b[0m\n\u001b[0;32m      2\u001b[0m \u001b[0mb\u001b[0m\u001b[1;33m=\u001b[0m\u001b[1;36m5\u001b[0m\u001b[1;33m+\u001b[0m\u001b[1;36m5j\u001b[0m\u001b[1;33m\u001b[0m\u001b[1;33m\u001b[0m\u001b[0m\n\u001b[1;32m----> 3\u001b[1;33m \u001b[0mprint\u001b[0m\u001b[1;33m(\u001b[0m\u001b[0ma\u001b[0m\u001b[1;33m//\u001b[0m\u001b[0mb\u001b[0m\u001b[1;33m)\u001b[0m\u001b[1;33m\u001b[0m\u001b[1;33m\u001b[0m\u001b[0m\n\u001b[0m",
      "\u001b[1;31mTypeError\u001b[0m: can't take floor of complex number."
     ]
    }
   ],
   "source": [
    "#floor devision cant be done for complex number\n",
    "a=10+10j\n",
    "b=5+5j\n",
    "print(a//b)\n"
   ]
  },
  {
   "cell_type": "markdown",
   "metadata": {},
   "source": [
    "Question 2\n",
    "--"
   ]
  },
  {
   "cell_type": "markdown",
   "metadata": {},
   "source": [
    "range() function , returns the value ranging from 0(default) to before specified number\n",
    "--\n",
    "__i.e range(5) returns__\n",
    "__0,1,2,3,4__\n"
   ]
  },
  {
   "cell_type": "code",
   "execution_count": 19,
   "metadata": {},
   "outputs": [
    {
     "name": "stdout",
     "output_type": "stream",
     "text": [
      "a[ 0 ] 12\n",
      "a[ 1 ] 22\n",
      "a[ 2 ] 32\n",
      "a[ 3 ] 42\n",
      "a[ 4 ] 52\n",
      "\n",
      "Next Loop\n",
      " \n",
      "\n",
      "a[ 1 ] 22\n",
      "a[ 2 ] 32\n",
      "a[ 3 ] 42\n",
      "a[ 4 ] 52\n",
      "\n",
      "Next Loop\n",
      " \n",
      "\n",
      "a[ 0 ] 12\n",
      "a[ 2 ] 32\n",
      "a[ 4 ] 52\n"
     ]
    }
   ],
   "source": [
    "\n",
    "a=[12,22,32,42,52]\n",
    "for i in range(5):\n",
    "    print(\"a[\",i,\"]\",a[i])\n",
    "print(\"\\nNext Loop\")\n",
    "print(\" \\n\")\n",
    "for i in range(1,5):\n",
    "    print(\"a[\",i,\"]\",a[i])\n",
    "print(\"\\nNext Loop\")\n",
    "print(\" \\n\")\n",
    "for i in range(0,5,2):\n",
    "    print(\"a[\",i,\"]\",a[i])"
   ]
  },
  {
   "cell_type": "markdown",
   "metadata": {},
   "source": [
    "Question 3\n",
    "--"
   ]
  },
  {
   "cell_type": "code",
   "execution_count": 20,
   "metadata": {},
   "outputs": [
    {
     "name": "stdout",
     "output_type": "stream",
     "text": [
      "1000\n"
     ]
    }
   ],
   "source": [
    "a=50\n",
    "b=20\n",
    "c=a-b\n",
    "if c>25:\n",
    "    print(a*b)\n",
    "else:\n",
    "    print(a/b)"
   ]
  },
  {
   "cell_type": "markdown",
   "metadata": {},
   "source": [
    "Question 4\n",
    "--"
   ]
  },
  {
   "cell_type": "code",
   "execution_count": 21,
   "metadata": {},
   "outputs": [
    {
     "name": "stdout",
     "output_type": "stream",
     "text": [
      "2\n",
      "1934\n",
      "34\n",
      "62\n"
     ]
    }
   ],
   "source": [
    "lst=[1,2,3,44,5,55,6,7,77,8]\n",
    "for i in lst:\n",
    "    if i%2==0:\n",
    "        s=i*i\n",
    "        print(s-2)"
   ]
  },
  {
   "cell_type": "markdown",
   "metadata": {},
   "source": [
    "Question 5\n",
    "--"
   ]
  },
  {
   "cell_type": "code",
   "execution_count": 22,
   "metadata": {},
   "outputs": [
    {
     "name": "stdout",
     "output_type": "stream",
     "text": [
      "44\n",
      "55\n",
      "77\n"
     ]
    }
   ],
   "source": [
    "lst=[1,2,3,44,5,55,6,7,77,8]\n",
    "for i in lst:\n",
    "    if (i/2)>7:\n",
    "        print(i)\n",
    "        "
   ]
  },
  {
   "cell_type": "code",
   "execution_count": null,
   "metadata": {},
   "outputs": [],
   "source": []
  }
 ],
 "metadata": {
  "kernelspec": {
   "display_name": "Python 3",
   "language": "python",
   "name": "python3"
  },
  "language_info": {
   "codemirror_mode": {
    "name": "ipython",
    "version": 3
   },
   "file_extension": ".py",
   "mimetype": "text/x-python",
   "name": "python",
   "nbconvert_exporter": "python",
   "pygments_lexer": "ipython3",
   "version": "3.8.1"
  }
 },
 "nbformat": 4,
 "nbformat_minor": 4
}
