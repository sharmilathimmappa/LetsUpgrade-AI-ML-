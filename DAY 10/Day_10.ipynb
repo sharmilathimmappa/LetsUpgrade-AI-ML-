{
 "cells": [
  {
   "cell_type": "markdown",
   "metadata": {},
   "source": [
    "Q1\n",
    "--"
   ]
  },
  {
   "cell_type": "code",
   "execution_count": 1,
   "metadata": {},
   "outputs": [
    {
     "name": "stdout",
     "output_type": "stream",
     "text": [
      "[False False False False]\n",
      "[ True  True  True  True]\n",
      "[False  True False  True]\n",
      "[ True  True  True  True]\n",
      "[ True False  True False]\n"
     ]
    }
   ],
   "source": [
    "import numpy as np\n",
    "a1=np.array([1,2,3,4])\n",
    "a2=np.array([11,21,31,41])\n",
    "a3=np.array([1,22,3,42])\n",
    "print(a1>a2)\n",
    "print(a1<a2)\n",
    "print(a1<a3)\n",
    "print(a1<=a3)\n",
    "print(a1>=a3)"
   ]
  },
  {
   "cell_type": "markdown",
   "metadata": {},
   "source": [
    "Q2\n",
    "--"
   ]
  },
  {
   "cell_type": "code",
   "execution_count": 2,
   "metadata": {},
   "outputs": [
    {
     "name": "stdout",
     "output_type": "stream",
     "text": [
      "[0. 0. 0. 0. 0. 0. 0. 0. 0. 0.]\n",
      "[1. 1. 1. 1. 1. 1. 1. 1. 1. 1.]\n",
      "[5. 5. 5. 5. 5. 5. 5. 5. 5. 5.]\n"
     ]
    }
   ],
   "source": [
    "a4=np.zeros([10])\n",
    "a5=np.ones([10])\n",
    "a6=np.full([10],5.0)\n",
    "print(a4)\n",
    "print(a5)\n",
    "print(a6)"
   ]
  },
  {
   "cell_type": "markdown",
   "metadata": {},
   "source": [
    "Q3\n",
    "--"
   ]
  },
  {
   "cell_type": "code",
   "execution_count": 3,
   "metadata": {},
   "outputs": [
    {
     "name": "stdout",
     "output_type": "stream",
     "text": [
      "226\n"
     ]
    }
   ],
   "source": [
    "a7=np.array([0,1,45,30,60,90])\n",
    "print(np.sum(a7))"
   ]
  },
  {
   "cell_type": "markdown",
   "metadata": {},
   "source": [
    "Q4\n",
    "--"
   ]
  },
  {
   "cell_type": "code",
   "execution_count": 4,
   "metadata": {},
   "outputs": [
    {
     "name": "stdout",
     "output_type": "stream",
     "text": [
      "[12 23 34 45]\n",
      "[-10 -19 -28 -37]\n",
      "[ 11  42  93 164]\n",
      "[0.09090909 0.0952381  0.09677419 0.09756098]\n"
     ]
    }
   ],
   "source": [
    "print(np.add(a1,a2))\n",
    "print(np.subtract(a1,a2))\n",
    "print(np.multiply(a1,a2))\n",
    "print(np.divide(a1,a2))"
   ]
  },
  {
   "cell_type": "markdown",
   "metadata": {},
   "source": [
    "Q5\n",
    "--"
   ]
  },
  {
   "cell_type": "code",
   "execution_count": 9,
   "metadata": {},
   "outputs": [
    {
     "name": "stdout",
     "output_type": "stream",
     "text": [
      "[[5 2]\n",
      " [3 5]]\n",
      "[[0.73828129 0.14780318]\n",
      " [0.22170477 0.73828129]]\n",
      "[[-0.21839314  0.49965088]\n",
      " [ 0.74947631 -0.21839314]]\n",
      "[[0.83239421 1.22761782]\n",
      " [1.84142673 0.83239421]]\n"
     ]
    }
   ],
   "source": [
    "from scipy import linalg\n",
    "a9=np.mat([[5,2], [3,5]])\n",
    "print(a9)\n",
    "print(linalg.sinm(a9))\n",
    "print(linalg.cosm(a9))\n",
    "print(linalg.tanm(a9))"
   ]
  }
 ],
 "metadata": {
  "kernelspec": {
   "display_name": "Python 3",
   "language": "python",
   "name": "python3"
  },
  "language_info": {
   "codemirror_mode": {
    "name": "ipython",
    "version": 3
   },
   "file_extension": ".py",
   "mimetype": "text/x-python",
   "name": "python",
   "nbconvert_exporter": "python",
   "pygments_lexer": "ipython3",
   "version": "3.8.1"
  }
 },
 "nbformat": 4,
 "nbformat_minor": 4
}
