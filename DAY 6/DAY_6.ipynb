{
 "cells": [
  {
   "cell_type": "markdown",
   "metadata": {},
   "source": [
    "Q1\n",
    "--"
   ]
  },
  {
   "cell_type": "code",
   "execution_count": 5,
   "metadata": {},
   "outputs": [
    {
     "name": "stdout",
     "output_type": "stream",
     "text": [
      "sharu5.1997@gmail.com\n",
      "gmail\n"
     ]
    }
   ],
   "source": [
    "a=input()\n",
    "i1=a.find('@')\n",
    "i2=a.find('.',11)\n",
    "print(a[i1+1:i2])\n"
   ]
  },
  {
   "cell_type": "markdown",
   "metadata": {},
   "source": [
    "Q2\n",
    "--"
   ]
  },
  {
   "cell_type": "code",
   "execution_count": 13,
   "metadata": {},
   "outputs": [
    {
     "name": "stdout",
     "output_type": "stream",
     "text": [
      "sharu,anu,amnu\n",
      "amnu,anu,sharu\n"
     ]
    }
   ],
   "source": [
    "b=input()\n",
    "b=b.split(\",\")\n",
    "b.sort()\n",
    "print(\",\".join(b))"
   ]
  },
  {
   "cell_type": "markdown",
   "metadata": {},
   "source": [
    "Q3\n",
    "--"
   ]
  },
  {
   "cell_type": "code",
   "execution_count": 27,
   "metadata": {},
   "outputs": [
    {
     "name": "stdout",
     "output_type": "stream",
     "text": [
      "{'anu', 'sharu', 'manu'}\n",
      "3\n",
      "0 anu\n",
      "1 sharu\n",
      "2 manu\n"
     ]
    },
    {
     "data": {
      "text/plain": [
       "{20, 21, 22, 23, 24}"
      ]
     },
     "execution_count": 27,
     "metadata": {},
     "output_type": "execute_result"
    }
   ],
   "source": [
    "s={'sharu','anu','manu'}\n",
    "print(s)\n",
    "print(len(s))\n",
    "for i,e in enumerate(s):\n",
    "    print(i,e)\n",
    "for i in range(10):\n",
    "    s.add(i)\n",
    "{i for i in range(20,25)}\n"
   ]
  },
  {
   "cell_type": "markdown",
   "metadata": {},
   "source": [
    "Q4\n",
    "--"
   ]
  },
  {
   "cell_type": "code",
   "execution_count": 7,
   "metadata": {},
   "outputs": [
    {
     "name": "stdout",
     "output_type": "stream",
     "text": [
      "1 3 5 6 8 9\n",
      "2 4 7 "
     ]
    }
   ],
   "source": [
    "n=list(map(int,input().split()))\n",
    "l=max(n)\n",
    "s=min(n)\n",
    "for i in range(s,l):\n",
    "    if i in n:\n",
    "        continue\n",
    "    else:\n",
    "        print(i,end=\" \")\n",
    "    "
   ]
  },
  {
   "cell_type": "markdown",
   "metadata": {},
   "source": [
    "Q5\n",
    "--"
   ]
  },
  {
   "cell_type": "code",
   "execution_count": 4,
   "metadata": {},
   "outputs": [
    {
     "name": "stdout",
     "output_type": "stream",
     "text": [
      "1 2 3 4 5 1 2 3 8 1 23 9\n",
      "[1, 2, 3, 4, 5, 1, 2, 3, 8, 1, 23, 9]\n",
      "{1, 2, 3, 4, 5, 8, 9, 23}\n"
     ]
    }
   ],
   "source": [
    "m=list(map(int,input().split()))\n",
    "print(m)\n",
    "print(set(m))"
   ]
  },
  {
   "cell_type": "code",
   "execution_count": null,
   "metadata": {},
   "outputs": [],
   "source": []
  },
  {
   "cell_type": "code",
   "execution_count": null,
   "metadata": {},
   "outputs": [],
   "source": []
  }
 ],
 "metadata": {
  "kernelspec": {
   "display_name": "Python 3",
   "language": "python",
   "name": "python3"
  },
  "language_info": {
   "codemirror_mode": {
    "name": "ipython",
    "version": 3
   },
   "file_extension": ".py",
   "mimetype": "text/x-python",
   "name": "python",
   "nbconvert_exporter": "python",
   "pygments_lexer": "ipython3",
   "version": "3.8.1"
  }
 },
 "nbformat": 4,
 "nbformat_minor": 4
}
