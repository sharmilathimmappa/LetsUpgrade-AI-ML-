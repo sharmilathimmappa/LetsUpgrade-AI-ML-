{
 "cells": [
  {
   "cell_type": "markdown",
   "metadata": {},
   "source": [
    "Q1\n",
    "--"
   ]
  },
  {
   "cell_type": "code",
   "execution_count": 3,
   "metadata": {},
   "outputs": [
    {
     "name": "stdout",
     "output_type": "stream",
     "text": [
      "2 3 5 7 11 13 17 19 23 29 31 37 41 43 47 53 59 61 67 71 73 "
     ]
    }
   ],
   "source": [
    "c=0\n",
    "for val in range(2, 80):\n",
    "    if val > 1:\n",
    "        for n in range(2, val):\n",
    "            if (val % n) == 0:\n",
    "                break\n",
    "        else:\n",
    "            if c<=20:\n",
    "                print(val,end=\" \")\n",
    "                c=c+1\n",
    "            \n",
    "                \n",
    "                    "
   ]
  },
  {
   "cell_type": "markdown",
   "metadata": {},
   "source": [
    "Q2\n",
    "--"
   ]
  },
  {
   "cell_type": "code",
   "execution_count": 38,
   "metadata": {},
   "outputs": [
    {
     "name": "stdout",
     "output_type": "stream",
     "text": [
      "SHARMILA\n",
      "t\n",
      "Sharmila\n",
      "2\n",
      "True\n",
      "4\n",
      "      sharmila     \n",
      "6\n",
      "['SHarmiLA', 'T']\n",
      "False\n",
      "shzrmilz\n",
      "sThTaTrTmTiTlTa\n",
      "True\n",
      "shARMIla t\n",
      "False\n"
     ]
    }
   ],
   "source": [
    "s1=\"sharmila\"\n",
    "s2=\"T\"\n",
    "s3='SHarmiLA T'\n",
    "s4='123'\n",
    "print(s1.upper())\n",
    "print(s2.lower())\n",
    "print(s1.capitalize())\n",
    "print(s1.count('a'))\n",
    "print(s4.isdigit())\n",
    "print(s1.index('m'))\n",
    "print(s1.center(19))\n",
    "print(s1.find('l'))\n",
    "print(s3.split())\n",
    "print(s1.isdigit())\n",
    "print(s1.replace('a','z'))\n",
    "print(s2.join(s1))\n",
    "print(s1.isalpha())\n",
    "print(s3.swapcase())\n",
    "print(s4.isalpha())"
   ]
  },
  {
   "cell_type": "markdown",
   "metadata": {},
   "source": [
    "Q3\n",
    "--"
   ]
  },
  {
   "cell_type": "code",
   "execution_count": 3,
   "metadata": {},
   "outputs": [
    {
     "name": "stdout",
     "output_type": "stream",
     "text": [
      "1st string for palindrome :mom\n",
      "Palindrome\n",
      "1st string :silent\n",
      "2nd string :listen\n",
      "Anagrams\n"
     ]
    }
   ],
   "source": [
    "str3=input(\"1st string for palindrome :\")\n",
    "s=str3[::-1]\n",
    "if str3==s:\n",
    "    print(\"Palindrome\")\n",
    "str1=input(\"1st string :\")\n",
    "str2=input(\"2nd string :\")\n",
    "if (sorted(str1)== sorted(str2)): \n",
    "    print(\"Anagrams\")\n",
    "else:\n",
    "    print(\"none\")"
   ]
  },
  {
   "cell_type": "code",
   "execution_count": 10,
   "metadata": {},
   "outputs": [
    {
     "name": "stdout",
     "output_type": "stream",
     "text": [
      " Enter a string :SHARMILA T @ sharu5.1997@gmail.com\n",
      "sharmilatsharu51997gmailcom\n"
     ]
    }
   ],
   "source": [
    "import re\n",
    "string=input(\" Enter a string :\")\n",
    "string=string.lower()\n",
    "c = re.sub('\\W+','', string )\n",
    "print(c)"
   ]
  },
  {
   "cell_type": "code",
   "execution_count": null,
   "metadata": {},
   "outputs": [],
   "source": []
  }
 ],
 "metadata": {
  "kernelspec": {
   "display_name": "Python 3",
   "language": "python",
   "name": "python3"
  },
  "language_info": {
   "codemirror_mode": {
    "name": "ipython",
    "version": 3
   },
   "file_extension": ".py",
   "mimetype": "text/x-python",
   "name": "python",
   "nbconvert_exporter": "python",
   "pygments_lexer": "ipython3",
   "version": "3.8.1"
  }
 },
 "nbformat": 4,
 "nbformat_minor": 4
}
